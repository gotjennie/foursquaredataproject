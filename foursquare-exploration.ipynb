{
 "cells": [
  {
   "cell_type": "markdown",
   "metadata": {},
   "source": [
    "## Imports and common functions"
   ]
  },
  {
   "cell_type": "code",
   "execution_count": 10,
   "metadata": {
    "collapsed": true
   },
   "outputs": [],
   "source": [
    "import seaborn as sb\n",
    "import pandas as pd\n",
    "import numpy as np"
   ]
  },
  {
   "cell_type": "code",
   "execution_count": 25,
   "metadata": {},
   "outputs": [],
   "source": [
    "def load_dat_file(file_name, n_components):  \n",
    "    \"\"\"\n",
    "    Loads in .dat files as lists. \n",
    "    \n",
    "    Inputs: \n",
    "        file_name (string): name of file to load in\n",
    "        n_components (int): number of componenets in row\n",
    "        \n",
    "    Outputs:\n",
    "        (list): list of rows in data file\n",
    "    \"\"\"\n",
    "    new_lines = []\n",
    "    with open(file_name) as input_file:\n",
    "        for line in input_file:\n",
    "            new_line = [x.strip() for x in line.split('|')]\n",
    "            \n",
    "            if len(new_line) == n_components:\n",
    "                new_lines.append(new_line)\n",
    "    return new_lines"
   ]
  },
  {
   "cell_type": "markdown",
   "metadata": {},
   "source": [
    "## Load in data"
   ]
  },
  {
   "cell_type": "code",
   "execution_count": 16,
   "metadata": {},
   "outputs": [],
   "source": [
    "# load in data files\n",
    "raw_checkin_data = load_dat_file('./raw_data/checkins.dat', 6)\n",
    "raw_ratings_data = load_dat_file('./raw_data/ratings.dat', 3)\n",
    "raw_socialgraph_data = load_dat_file('./raw_data/socialgraph.dat', 2)\n",
    "raw_user_data = load_dat_file('./raw_data/users.dat', 3)\n",
    "raw_venues_data = load_dat_file('./raw_data/venues.dat', 3)"
   ]
  },
  {
   "cell_type": "code",
   "execution_count": 23,
   "metadata": {
    "collapsed": true
   },
   "outputs": [],
   "source": [
    "# convert above data to pandas for easy analysis \n",
    "checkin_df = pd.DataFrame(raw_checkin_data[1:], columns=raw_checkin_data[0])\n",
    "ratings_df = pd.DataFrame(raw_ratings_data[1:], columns=raw_ratings_data[0])\n",
    "socialgraph_df = pd.DataFrame(raw_socialgraph_data[1:], columns=raw_socialgraph_data[0])\n",
    "user_df = pd.DataFrame(raw_user_data[1:], columns=raw_user_data[0])\n",
    "venues_df = pd.DataFrame(raw_venues_data[1:], columns=raw_venues_data[0])"
   ]
  },
  {
   "cell_type": "code",
   "execution_count": 24,
   "metadata": {
    "collapsed": true
   },
   "outputs": [],
   "source": [
    "# export data as csv \n",
    "checkin_df.to_csv('./raw_data/checkin.csv', index=False)\n",
    "ratings_df.to_csv('./raw_data/ratings.csv', index=False)\n",
    "socialgraph_df.to_csv('./raw_data/socialgraph.csv', index=False)\n",
    "user_df.to_csv('./raw_data/user.csv', index=False)\n",
    "venues_df.to_csv('./raw_data/venues.csv', index=False)"
   ]
  }
 ],
 "metadata": {
  "kernelspec": {
   "display_name": "Python 2",
   "language": "python",
   "name": "python2"
  },
  "language_info": {
   "codemirror_mode": {
    "name": "ipython",
    "version": 2
   },
   "file_extension": ".py",
   "mimetype": "text/x-python",
   "name": "python",
   "nbconvert_exporter": "python",
   "pygments_lexer": "ipython2",
   "version": "2.7.13"
  }
 },
 "nbformat": 4,
 "nbformat_minor": 2
}
