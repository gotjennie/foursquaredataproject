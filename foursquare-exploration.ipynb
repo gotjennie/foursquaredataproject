{
 "cells": [
  {
   "cell_type": "code",
   "execution_count": 8,
   "metadata": {},
   "outputs": [],
   "source": [
    "# load in data files\n",
    "def load_dat_file(file_name, n_components):  \n",
    "    \"\"\"\n",
    "    Loads in .dat files as lists. \n",
    "    \n",
    "    Inputs: \n",
    "        \n",
    "    \"\"\"\n",
    "    new_lines = []\n",
    "    with open(file_name) as input_file:\n",
    "        for line in input_file:\n",
    "            new_line = [x.strip() for x in line.split('|')]\n",
    "            \n",
    "            if len(new_line) == n_components:\n",
    "                new_lines.append(new_line)\n",
    "    return new_lines\n",
    "\n",
    "checkin_data = load_dat_file('./raw_data/checkins.dat', 6)\n",
    "ratings_data = load_dat_file('./raw_data/ratings.dat', 3)\n",
    "socialgraph_data = load_dat_file('./raw_data/socialgraph.dat', 2)\n",
    "user_data = load_dat_file('./raw_data/users.dat', 3)\n",
    "venues_data = load_dat_file('./raw_data/venues.dat', 3)"
   ]
  },
  {
   "cell_type": "code",
   "execution_count": null,
   "metadata": {
    "collapsed": true
   },
   "outputs": [],
   "source": []
  }
 ],
 "metadata": {
  "kernelspec": {
   "display_name": "Python 2",
   "language": "python",
   "name": "python2"
  },
  "language_info": {
   "codemirror_mode": {
    "name": "ipython",
    "version": 2
   },
   "file_extension": ".py",
   "mimetype": "text/x-python",
   "name": "python",
   "nbconvert_exporter": "python",
   "pygments_lexer": "ipython2",
   "version": "2.7.13"
  }
 },
 "nbformat": 4,
 "nbformat_minor": 2
}
