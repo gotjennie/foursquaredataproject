{
 "cells": [
  {
   "cell_type": "markdown",
   "metadata": {},
   "source": [
    "## Imports and common functions"
   ]
  },
  {
   "cell_type": "code",
   "execution_count": 118,
   "metadata": {
    "collapsed": true
   },
   "outputs": [],
   "source": [
    "import seaborn as sb\n",
    "import pandas as pd\n",
    "import numpy as np\n",
    "import reverse_geocoder as rg"
   ]
  },
  {
   "cell_type": "code",
   "execution_count": 25,
   "metadata": {},
   "outputs": [],
   "source": [
    "def load_dat_file(file_name, n_components):  \n",
    "    \"\"\"\n",
    "    Loads in .dat files as lists. \n",
    "    \n",
    "    Inputs: \n",
    "        file_name (string): name of file to load in\n",
    "        n_components (int): number of componenets in row\n",
    "        \n",
    "    Outputs:\n",
    "        (list): list of rows in data file\n",
    "    \"\"\"\n",
    "    new_lines = []\n",
    "    with open(file_name) as input_file:\n",
    "        for line in input_file:\n",
    "            new_line = [x.strip() for x in line.split('|')]\n",
    "            \n",
    "            if len(new_line) == n_components:\n",
    "                new_lines.append(new_line)\n",
    "    return new_lines"
   ]
  },
  {
   "cell_type": "markdown",
   "metadata": {},
   "source": [
    "## Load in data"
   ]
  },
  {
   "cell_type": "code",
   "execution_count": 16,
   "metadata": {},
   "outputs": [],
   "source": [
    "# load in data files\n",
    "raw_checkin_data = load_dat_file('./raw_data/checkins.dat', 6)\n",
    "raw_ratings_data = load_dat_file('./raw_data/ratings.dat', 3)\n",
    "raw_socialgraph_data = load_dat_file('./raw_data/socialgraph.dat', 2)\n",
    "raw_user_data = load_dat_file('./raw_data/users.dat', 3)\n",
    "raw_venues_data = load_dat_file('./raw_data/venues.dat', 3)"
   ]
  },
  {
   "cell_type": "code",
   "execution_count": 23,
   "metadata": {
    "collapsed": true
   },
   "outputs": [],
   "source": [
    "# convert above data to pandas for easy analysis \n",
    "checkin_df = pd.DataFrame(raw_checkin_data[1:], columns=raw_checkin_data[0])\n",
    "ratings_df = pd.DataFrame(raw_ratings_data[1:], columns=raw_ratings_data[0])\n",
    "socialgraph_df = pd.DataFrame(raw_socialgraph_data[1:], columns=raw_socialgraph_data[0])\n",
    "user_df = pd.DataFrame(raw_user_data[1:], columns=raw_user_data[0])\n",
    "venues_df = pd.DataFrame(raw_venues_data[1:], columns=raw_venues_data[0])"
   ]
  },
  {
   "cell_type": "code",
   "execution_count": 24,
   "metadata": {
    "collapsed": true
   },
   "outputs": [],
   "source": [
    "# export data as csv \n",
    "checkin_df.to_csv('./raw_data/checkin.csv', index=False)\n",
    "ratings_df.to_csv('./raw_data/ratings.csv', index=False)\n",
    "socialgraph_df.to_csv('./raw_data/socialgraph.csv', index=False)\n",
    "user_df.to_csv('./raw_data/user.csv', index=False)\n",
    "venues_df.to_csv('./raw_data/venues.csv', index=False)"
   ]
  },
  {
   "cell_type": "markdown",
   "metadata": {},
   "source": [
    "## Data Cleaning"
   ]
  },
  {
   "cell_type": "code",
   "execution_count": 114,
   "metadata": {},
   "outputs": [],
   "source": [
    "venues_df = venues_df[(venues_df['latitude'] != '') & (venues_df['longitude'] != '')]\n",
    "venues_df['latitude'] = pd.to_numeric(venues_df['latitude'])\n",
    "venues_df['longitude'] = pd.to_numeric(venues_df['longitude'])"
   ]
  },
  {
   "cell_type": "code",
   "execution_count": 115,
   "metadata": {
    "collapsed": true
   },
   "outputs": [],
   "source": [
    "# bound box to (roughly) united states only\n",
    "top_left = (48.313833, -126.350714)\n",
    "bottom_left = (24.489072, -126.350714)\n",
    "top_right = (48.313833, -67.288219)\n",
    "bottom_right = (24.489072, -67.288219)\n",
    "\n",
    "subset_venues_df = venues_df[(venues_df['latitude'] < top_left[0]) & (venues_df['latitude'] > bottom_right[0]) &\n",
    "                             (venues_df['longitude'] > top_left[1]) & (venues_df['longitude'] < bottom_right[1])]"
   ]
  },
  {
   "cell_type": "code",
   "execution_count": null,
   "metadata": {},
   "outputs": [
    {
     "name": "stderr",
     "output_type": "stream",
     "text": [
      "/Users/kapilgarg/miniconda3/envs/sccs/lib/python2.7/site-packages/ipykernel_launcher.py:1: SettingWithCopyWarning: \n",
      "A value is trying to be set on a copy of a slice from a DataFrame.\n",
      "Try using .loc[row_indexer,col_indexer] = value instead\n",
      "\n",
      "See the caveats in the documentation: http://pandas.pydata.org/pandas-docs/stable/indexing.html#indexing-view-versus-copy\n",
      "  \"\"\"Entry point for launching an IPython kernel.\n",
      "/Users/kapilgarg/miniconda3/envs/sccs/lib/python2.7/site-packages/ipykernel_launcher.py:2: SettingWithCopyWarning: \n",
      "A value is trying to be set on a copy of a slice from a DataFrame.\n",
      "Try using .loc[row_indexer,col_indexer] = value instead\n",
      "\n",
      "See the caveats in the documentation: http://pandas.pydata.org/pandas-docs/stable/indexing.html#indexing-view-versus-copy\n",
      "  \n"
     ]
    }
   ],
   "source": [
    "subset_venues_df['city'] = ''\n",
    "subset_venues_df['country'] = ''\n",
    "\n",
    "for index, row in subset_venues_df.iterrows():\n",
    "    current_reverse_geocode = rg.search((row['latitude'], row['longitude']))[0]\n",
    "    subset_venues_df.set_value(index, 'city', current_reverse_geocode['name'])\n",
    "    subset_venues_df.set_value(index, 'country', current_reverse_geocode['cc'])"
   ]
  },
  {
   "cell_type": "code",
   "execution_count": null,
   "metadata": {
    "collapsed": true
   },
   "outputs": [],
   "source": []
  }
 ],
 "metadata": {
  "kernelspec": {
   "display_name": "Python 2",
   "language": "python",
   "name": "python2"
  },
  "language_info": {
   "codemirror_mode": {
    "name": "ipython",
    "version": 2
   },
   "file_extension": ".py",
   "mimetype": "text/x-python",
   "name": "python",
   "nbconvert_exporter": "python",
   "pygments_lexer": "ipython2",
   "version": "2.7.13"
  }
 },
 "nbformat": 4,
 "nbformat_minor": 2
}
