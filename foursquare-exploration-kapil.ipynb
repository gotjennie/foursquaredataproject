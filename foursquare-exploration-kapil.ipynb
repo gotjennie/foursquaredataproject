{
 "cells": [
  {
   "cell_type": "markdown",
   "metadata": {},
   "source": [
    "## Imports and common functions"
   ]
  },
  {
   "cell_type": "code",
   "execution_count": 118,
   "metadata": {
    "collapsed": true
   },
   "outputs": [],
   "source": [
    "import seaborn as sb\n",
    "import pandas as pd\n",
    "import numpy as np\n",
    "import reverse_geocoder as rg"
   ]
  },
  {
   "cell_type": "code",
   "execution_count": 25,
   "metadata": {},
   "outputs": [],
   "source": [
    "def load_dat_file(file_name, n_components):  \n",
    "    \"\"\"\n",
    "    Loads in .dat files as lists. \n",
    "    \n",
    "    Inputs: \n",
    "        file_name (string): name of file to load in\n",
    "        n_components (int): number of componenets in row\n",
    "        \n",
    "    Outputs:\n",
    "        (list): list of rows in data file\n",
    "    \"\"\"\n",
    "    new_lines = []\n",
    "    with open(file_name) as input_file:\n",
    "        for line in input_file:\n",
    "            new_line = [x.strip() for x in line.split('|')]\n",
    "            \n",
    "            if len(new_line) == n_components:\n",
    "                new_lines.append(new_line)\n",
    "    return new_lines"
   ]
  },
  {
   "cell_type": "markdown",
   "metadata": {},
   "source": [
    "## Load in data"
   ]
  },
  {
   "cell_type": "code",
   "execution_count": 16,
   "metadata": {},
   "outputs": [],
   "source": [
    "# load in data files\n",
    "raw_checkin_data = load_dat_file('./raw_data/checkins.dat', 6)\n",
    "raw_ratings_data = load_dat_file('./raw_data/ratings.dat', 3)\n",
    "raw_socialgraph_data = load_dat_file('./raw_data/socialgraph.dat', 2)\n",
    "raw_user_data = load_dat_file('./raw_data/users.dat', 3)\n",
    "raw_venues_data = load_dat_file('./raw_data/venues.dat', 3)"
   ]
  },
  {
   "cell_type": "code",
   "execution_count": 23,
   "metadata": {
    "collapsed": true
   },
   "outputs": [],
   "source": [
    "# convert above data to pandas for easy analysis \n",
    "checkin_df = pd.DataFrame(raw_checkin_data[1:], columns=raw_checkin_data[0])\n",
    "ratings_df = pd.DataFrame(raw_ratings_data[1:], columns=raw_ratings_data[0])\n",
    "socialgraph_df = pd.DataFrame(raw_socialgraph_data[1:], columns=raw_socialgraph_data[0])\n",
    "user_df = pd.DataFrame(raw_user_data[1:], columns=raw_user_data[0])\n",
    "venues_df = pd.DataFrame(raw_venues_data[1:], columns=raw_venues_data[0])"
   ]
  },
  {
   "cell_type": "code",
   "execution_count": 24,
   "metadata": {
    "collapsed": true
   },
   "outputs": [],
   "source": [
    "# export data as csv \n",
    "checkin_df.to_csv('./raw_data/checkin.csv', index=False)\n",
    "ratings_df.to_csv('./raw_data/ratings.csv', index=False)\n",
    "socialgraph_df.to_csv('./raw_data/socialgraph.csv', index=False)\n",
    "user_df.to_csv('./raw_data/user.csv', index=False)\n",
    "venues_df.to_csv('./raw_data/venues.csv', index=False)"
   ]
  },
  {
   "cell_type": "markdown",
   "metadata": {},
   "source": [
    "## Data Cleaning"
   ]
  },
  {
   "cell_type": "code",
   "execution_count": 114,
   "metadata": {},
   "outputs": [],
   "source": [
    "venues_df = venues_df[(venues_df['latitude'] != '') & (venues_df['longitude'] != '')]\n",
    "venues_df['latitude'] = pd.to_numeric(venues_df['latitude'])\n",
    "venues_df['longitude'] = pd.to_numeric(venues_df['longitude'])"
   ]
  },
  {
   "cell_type": "code",
   "execution_count": 115,
   "metadata": {
    "collapsed": true
   },
   "outputs": [],
   "source": [
    "# bound box to (roughly) united states only\n",
    "top_left = (48.313833, -126.350714)\n",
    "bottom_left = (24.489072, -126.350714)\n",
    "top_right = (48.313833, -67.288219)\n",
    "bottom_right = (24.489072, -67.288219)\n",
    "\n",
    "subset_venues_df = venues_df[(venues_df['latitude'] < top_left[0]) & (venues_df['latitude'] > bottom_right[0]) &\n",
    "                             (venues_df['longitude'] > top_left[1]) & (venues_df['longitude'] < bottom_right[1])]"
   ]
  },
  {
   "cell_type": "code",
   "execution_count": 141,
   "metadata": {},
   "outputs": [
    {
     "name": "stderr",
     "output_type": "stream",
     "text": [
      "/Users/kapilgarg/miniconda3/envs/sccs/lib/python2.7/site-packages/ipykernel_launcher.py:6: SettingWithCopyWarning: \n",
      "A value is trying to be set on a copy of a slice from a DataFrame.\n",
      "Try using .loc[row_indexer,col_indexer] = value instead\n",
      "\n",
      "See the caveats in the documentation: http://pandas.pydata.org/pandas-docs/stable/indexing.html#indexing-view-versus-copy\n",
      "  \n",
      "/Users/kapilgarg/miniconda3/envs/sccs/lib/python2.7/site-packages/ipykernel_launcher.py:7: SettingWithCopyWarning: \n",
      "A value is trying to be set on a copy of a slice from a DataFrame.\n",
      "Try using .loc[row_indexer,col_indexer] = value instead\n",
      "\n",
      "See the caveats in the documentation: http://pandas.pydata.org/pandas-docs/stable/indexing.html#indexing-view-versus-copy\n",
      "  import sys\n"
     ]
    }
   ],
   "source": [
    "# assign cities and countries\n",
    "current_reverse_geocode = rg.search(zip(subset_venues_df['latitude'], subset_venues_df['longitude']))\n",
    "cities = [x['name'] for x in current_reverse_geocode]\n",
    "countries = [x['cc'] for x in current_reverse_geocode]\n",
    "\n",
    "subset_venues_df['city'] = cities\n",
    "subset_venues_df['country'] = countries"
   ]
  },
  {
   "cell_type": "code",
   "execution_count": 145,
   "metadata": {},
   "outputs": [
    {
     "data": {
      "text/plain": [
       "New York City        17617\n",
       "Chicago              13569\n",
       "San Francisco        13168\n",
       "Manhattan            11109\n",
       "Long Island City     10424\n",
       "Washington, D.C.      7483\n",
       "Toronto               7046\n",
       "Seattle               6591\n",
       "San Diego             5741\n",
       "Philadelphia          5358\n",
       "Brooklyn              4416\n",
       "Austin                3842\n",
       "Portland              3833\n",
       "Minneapolis           3776\n",
       "Lincolnwood           3701\n",
       "Boston                3412\n",
       "Atlanta               3407\n",
       "Weehawken             3323\n",
       "Paradise              3057\n",
       "Glendale              3056\n",
       "Montreal              2854\n",
       "Denver                2470\n",
       "Phoenix               2415\n",
       "La Jolla              2410\n",
       "Baltimore             2367\n",
       "Dallas                2359\n",
       "Arlington             2343\n",
       "Paradise Valley       2308\n",
       "Hoboken               2269\n",
       "Houston               2242\n",
       "                     ...  \n",
       "Rumford                  1\n",
       "El Dorado Springs        1\n",
       "Saint-Tite               1\n",
       "Earlville                1\n",
       "Gwinn                    1\n",
       "Cookshire-Eaton          1\n",
       "Roberta                  1\n",
       "Texico                   1\n",
       "McGraw                   1\n",
       "Boyceville               1\n",
       "Byhalia                  1\n",
       "Ballplay                 1\n",
       "Esko                     1\n",
       "Comer                    1\n",
       "Ashdown                  1\n",
       "Fort Frances             1\n",
       "Dillsboro                1\n",
       "Cottonwood Shores        1\n",
       "Gleason                  1\n",
       "Capron                   1\n",
       "Hagerman                 1\n",
       "Cortland West            1\n",
       "Milam                    1\n",
       "Craigsville              1\n",
       "La Homa                  1\n",
       "Ida Grove                1\n",
       "Piggott                  1\n",
       "Morganfield              1\n",
       "Fort Plain               1\n",
       "Archer City              1\n",
       "Name: city, Length: 10804, dtype: int64"
      ]
     },
     "execution_count": 145,
     "metadata": {},
     "output_type": "execute_result"
    }
   ],
   "source": [
    "subset_venues_df['city'].value_counts()"
   ]
  },
  {
   "cell_type": "code",
   "execution_count": 147,
   "metadata": {},
   "outputs": [
    {
     "data": {
      "text/plain": [
       "US    1049537\n",
       "CA      31876\n",
       "MX       1823\n",
       "BS        122\n",
       "BM         30\n",
       "Name: country, dtype: int64"
      ]
     },
     "execution_count": 147,
     "metadata": {},
     "output_type": "execute_result"
    }
   ],
   "source": [
    "subset_venues_df['country'].value_counts()"
   ]
  },
  {
   "cell_type": "code",
   "execution_count": null,
   "metadata": {
    "collapsed": true
   },
   "outputs": [],
   "source": []
  }
 ],
 "metadata": {
  "kernelspec": {
   "display_name": "Python 2",
   "language": "python",
   "name": "python2"
  },
  "language_info": {
   "codemirror_mode": {
    "name": "ipython",
    "version": 2
   },
   "file_extension": ".py",
   "mimetype": "text/x-python",
   "name": "python",
   "nbconvert_exporter": "python",
   "pygments_lexer": "ipython2",
   "version": "2.7.13"
  }
 },
 "nbformat": 4,
 "nbformat_minor": 2
}
